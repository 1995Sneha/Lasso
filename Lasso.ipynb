{
 "cells": [
  {
   "cell_type": "code",
   "execution_count": 2,
   "id": "e7a5f8cb",
   "metadata": {
    "ExecuteTime": {
     "end_time": "2023-02-22T10:00:40.162771Z",
     "start_time": "2023-02-22T10:00:36.615837Z"
    }
   },
   "outputs": [],
   "source": [
    "import pandas as pd\n",
    "import numpy as np\n",
    "import matplotlib.pyplot as plt\n",
    "import seaborn as sns\n",
    "%matplotlib inline\n"
   ]
  },
  {
   "cell_type": "code",
   "execution_count": 16,
   "id": "324eb52e",
   "metadata": {
    "ExecuteTime": {
     "end_time": "2023-02-22T10:08:57.283304Z",
     "start_time": "2023-02-22T10:08:57.275013Z"
    }
   },
   "outputs": [],
   "source": [
    "df = pd.read_csv(\"C:\\\\Users\\\\sneha\\\\Downloads\\\\cars.txt\")"
   ]
  },
  {
   "cell_type": "code",
   "execution_count": 17,
   "id": "9797f18e",
   "metadata": {
    "ExecuteTime": {
     "end_time": "2023-02-22T10:08:58.080495Z",
     "start_time": "2023-02-22T10:08:58.038705Z"
    }
   },
   "outputs": [
    {
     "data": {
      "text/html": [
       "<div>\n",
       "<style scoped>\n",
       "    .dataframe tbody tr th:only-of-type {\n",
       "        vertical-align: middle;\n",
       "    }\n",
       "\n",
       "    .dataframe tbody tr th {\n",
       "        vertical-align: top;\n",
       "    }\n",
       "\n",
       "    .dataframe thead th {\n",
       "        text-align: right;\n",
       "    }\n",
       "</style>\n",
       "<table border=\"1\" class=\"dataframe\">\n",
       "  <thead>\n",
       "    <tr style=\"text-align: right;\">\n",
       "      <th></th>\n",
       "      <th>symboling</th>\n",
       "      <th>normalized-losses</th>\n",
       "      <th>make</th>\n",
       "      <th>fuel-type</th>\n",
       "      <th>body-style</th>\n",
       "      <th>drive-wheels</th>\n",
       "      <th>engine-location</th>\n",
       "      <th>width</th>\n",
       "      <th>height</th>\n",
       "      <th>engine-type</th>\n",
       "      <th>engine-size</th>\n",
       "      <th>horsepower</th>\n",
       "      <th>city-mpg</th>\n",
       "      <th>highway-mpg</th>\n",
       "      <th>price</th>\n",
       "    </tr>\n",
       "  </thead>\n",
       "  <tbody>\n",
       "    <tr>\n",
       "      <th>0</th>\n",
       "      <td>3</td>\n",
       "      <td>?</td>\n",
       "      <td>alfa-romero</td>\n",
       "      <td>gas</td>\n",
       "      <td>convertible</td>\n",
       "      <td>rwd</td>\n",
       "      <td>front</td>\n",
       "      <td>64.1</td>\n",
       "      <td>48.8</td>\n",
       "      <td>dohc</td>\n",
       "      <td>130</td>\n",
       "      <td>111</td>\n",
       "      <td>21</td>\n",
       "      <td>27</td>\n",
       "      <td>13495</td>\n",
       "    </tr>\n",
       "    <tr>\n",
       "      <th>1</th>\n",
       "      <td>3</td>\n",
       "      <td>?</td>\n",
       "      <td>alfa-romero</td>\n",
       "      <td>gas</td>\n",
       "      <td>convertible</td>\n",
       "      <td>rwd</td>\n",
       "      <td>front</td>\n",
       "      <td>64.1</td>\n",
       "      <td>48.8</td>\n",
       "      <td>dohc</td>\n",
       "      <td>130</td>\n",
       "      <td>111</td>\n",
       "      <td>21</td>\n",
       "      <td>27</td>\n",
       "      <td>16500</td>\n",
       "    </tr>\n",
       "    <tr>\n",
       "      <th>2</th>\n",
       "      <td>1</td>\n",
       "      <td>?</td>\n",
       "      <td>alfa-romero</td>\n",
       "      <td>gas</td>\n",
       "      <td>hatchback</td>\n",
       "      <td>rwd</td>\n",
       "      <td>front</td>\n",
       "      <td>65.5</td>\n",
       "      <td>52.4</td>\n",
       "      <td>ohcv</td>\n",
       "      <td>152</td>\n",
       "      <td>154</td>\n",
       "      <td>19</td>\n",
       "      <td>26</td>\n",
       "      <td>16500</td>\n",
       "    </tr>\n",
       "    <tr>\n",
       "      <th>3</th>\n",
       "      <td>2</td>\n",
       "      <td>164</td>\n",
       "      <td>audi</td>\n",
       "      <td>gas</td>\n",
       "      <td>sedan</td>\n",
       "      <td>fwd</td>\n",
       "      <td>front</td>\n",
       "      <td>66.2</td>\n",
       "      <td>54.3</td>\n",
       "      <td>ohc</td>\n",
       "      <td>109</td>\n",
       "      <td>102</td>\n",
       "      <td>24</td>\n",
       "      <td>30</td>\n",
       "      <td>13950</td>\n",
       "    </tr>\n",
       "    <tr>\n",
       "      <th>4</th>\n",
       "      <td>2</td>\n",
       "      <td>164</td>\n",
       "      <td>audi</td>\n",
       "      <td>gas</td>\n",
       "      <td>sedan</td>\n",
       "      <td>4wd</td>\n",
       "      <td>front</td>\n",
       "      <td>66.4</td>\n",
       "      <td>54.3</td>\n",
       "      <td>ohc</td>\n",
       "      <td>136</td>\n",
       "      <td>115</td>\n",
       "      <td>18</td>\n",
       "      <td>22</td>\n",
       "      <td>17450</td>\n",
       "    </tr>\n",
       "    <tr>\n",
       "      <th>...</th>\n",
       "      <td>...</td>\n",
       "      <td>...</td>\n",
       "      <td>...</td>\n",
       "      <td>...</td>\n",
       "      <td>...</td>\n",
       "      <td>...</td>\n",
       "      <td>...</td>\n",
       "      <td>...</td>\n",
       "      <td>...</td>\n",
       "      <td>...</td>\n",
       "      <td>...</td>\n",
       "      <td>...</td>\n",
       "      <td>...</td>\n",
       "      <td>...</td>\n",
       "      <td>...</td>\n",
       "    </tr>\n",
       "    <tr>\n",
       "      <th>200</th>\n",
       "      <td>-1</td>\n",
       "      <td>95</td>\n",
       "      <td>volvo</td>\n",
       "      <td>gas</td>\n",
       "      <td>sedan</td>\n",
       "      <td>rwd</td>\n",
       "      <td>front</td>\n",
       "      <td>68.9</td>\n",
       "      <td>55.5</td>\n",
       "      <td>ohc</td>\n",
       "      <td>141</td>\n",
       "      <td>114</td>\n",
       "      <td>23</td>\n",
       "      <td>28</td>\n",
       "      <td>16845</td>\n",
       "    </tr>\n",
       "    <tr>\n",
       "      <th>201</th>\n",
       "      <td>-1</td>\n",
       "      <td>95</td>\n",
       "      <td>volvo</td>\n",
       "      <td>gas</td>\n",
       "      <td>sedan</td>\n",
       "      <td>rwd</td>\n",
       "      <td>front</td>\n",
       "      <td>68.8</td>\n",
       "      <td>55.5</td>\n",
       "      <td>ohc</td>\n",
       "      <td>141</td>\n",
       "      <td>160</td>\n",
       "      <td>19</td>\n",
       "      <td>25</td>\n",
       "      <td>19045</td>\n",
       "    </tr>\n",
       "    <tr>\n",
       "      <th>202</th>\n",
       "      <td>-1</td>\n",
       "      <td>95</td>\n",
       "      <td>volvo</td>\n",
       "      <td>gas</td>\n",
       "      <td>sedan</td>\n",
       "      <td>rwd</td>\n",
       "      <td>front</td>\n",
       "      <td>68.9</td>\n",
       "      <td>55.5</td>\n",
       "      <td>ohcv</td>\n",
       "      <td>173</td>\n",
       "      <td>134</td>\n",
       "      <td>18</td>\n",
       "      <td>23</td>\n",
       "      <td>21485</td>\n",
       "    </tr>\n",
       "    <tr>\n",
       "      <th>203</th>\n",
       "      <td>-1</td>\n",
       "      <td>95</td>\n",
       "      <td>volvo</td>\n",
       "      <td>diesel</td>\n",
       "      <td>sedan</td>\n",
       "      <td>rwd</td>\n",
       "      <td>front</td>\n",
       "      <td>68.9</td>\n",
       "      <td>55.5</td>\n",
       "      <td>ohc</td>\n",
       "      <td>145</td>\n",
       "      <td>106</td>\n",
       "      <td>26</td>\n",
       "      <td>27</td>\n",
       "      <td>22470</td>\n",
       "    </tr>\n",
       "    <tr>\n",
       "      <th>204</th>\n",
       "      <td>-1</td>\n",
       "      <td>95</td>\n",
       "      <td>volvo</td>\n",
       "      <td>gas</td>\n",
       "      <td>sedan</td>\n",
       "      <td>rwd</td>\n",
       "      <td>front</td>\n",
       "      <td>68.9</td>\n",
       "      <td>55.5</td>\n",
       "      <td>ohc</td>\n",
       "      <td>141</td>\n",
       "      <td>114</td>\n",
       "      <td>19</td>\n",
       "      <td>25</td>\n",
       "      <td>22625</td>\n",
       "    </tr>\n",
       "  </tbody>\n",
       "</table>\n",
       "<p>205 rows × 15 columns</p>\n",
       "</div>"
      ],
      "text/plain": [
       "     symboling normalized-losses         make fuel-type   body-style  \\\n",
       "0            3                 ?  alfa-romero       gas  convertible   \n",
       "1            3                 ?  alfa-romero       gas  convertible   \n",
       "2            1                 ?  alfa-romero       gas    hatchback   \n",
       "3            2               164         audi       gas        sedan   \n",
       "4            2               164         audi       gas        sedan   \n",
       "..         ...               ...          ...       ...          ...   \n",
       "200         -1                95        volvo       gas        sedan   \n",
       "201         -1                95        volvo       gas        sedan   \n",
       "202         -1                95        volvo       gas        sedan   \n",
       "203         -1                95        volvo    diesel        sedan   \n",
       "204         -1                95        volvo       gas        sedan   \n",
       "\n",
       "    drive-wheels engine-location  width  height engine-type  engine-size  \\\n",
       "0            rwd           front   64.1    48.8        dohc          130   \n",
       "1            rwd           front   64.1    48.8        dohc          130   \n",
       "2            rwd           front   65.5    52.4        ohcv          152   \n",
       "3            fwd           front   66.2    54.3         ohc          109   \n",
       "4            4wd           front   66.4    54.3         ohc          136   \n",
       "..           ...             ...    ...     ...         ...          ...   \n",
       "200          rwd           front   68.9    55.5         ohc          141   \n",
       "201          rwd           front   68.8    55.5         ohc          141   \n",
       "202          rwd           front   68.9    55.5        ohcv          173   \n",
       "203          rwd           front   68.9    55.5         ohc          145   \n",
       "204          rwd           front   68.9    55.5         ohc          141   \n",
       "\n",
       "    horsepower  city-mpg  highway-mpg  price  \n",
       "0          111        21           27  13495  \n",
       "1          111        21           27  16500  \n",
       "2          154        19           26  16500  \n",
       "3          102        24           30  13950  \n",
       "4          115        18           22  17450  \n",
       "..         ...       ...          ...    ...  \n",
       "200        114        23           28  16845  \n",
       "201        160        19           25  19045  \n",
       "202        134        18           23  21485  \n",
       "203        106        26           27  22470  \n",
       "204        114        19           25  22625  \n",
       "\n",
       "[205 rows x 15 columns]"
      ]
     },
     "execution_count": 17,
     "metadata": {},
     "output_type": "execute_result"
    }
   ],
   "source": [
    "df"
   ]
  },
  {
   "cell_type": "markdown",
   "id": "bc7ed770",
   "metadata": {},
   "source": [
    "Replace the ? by null"
   ]
  },
  {
   "cell_type": "code",
   "execution_count": 20,
   "id": "b90ca45f",
   "metadata": {
    "ExecuteTime": {
     "end_time": "2023-02-22T10:51:30.556424Z",
     "start_time": "2023-02-22T10:51:30.494121Z"
    }
   },
   "outputs": [],
   "source": [
    "df.replace('?',np.nan, inplace=True)"
   ]
  },
  {
   "cell_type": "code",
   "execution_count": 21,
   "id": "30219726",
   "metadata": {
    "ExecuteTime": {
     "end_time": "2023-02-22T10:51:34.757136Z",
     "start_time": "2023-02-22T10:51:34.743201Z"
    }
   },
   "outputs": [
    {
     "data": {
      "text/plain": [
       "symboling             0\n",
       "normalized-losses    41\n",
       "make                  0\n",
       "fuel-type             0\n",
       "body-style            0\n",
       "drive-wheels          0\n",
       "engine-location       0\n",
       "width                 0\n",
       "height                0\n",
       "engine-type           0\n",
       "engine-size           0\n",
       "horsepower            2\n",
       "city-mpg              0\n",
       "highway-mpg           0\n",
       "price                 0\n",
       "dtype: int64"
      ]
     },
     "execution_count": 21,
     "metadata": {},
     "output_type": "execute_result"
    }
   ],
   "source": [
    "df.isna().sum()"
   ]
  },
  {
   "cell_type": "code",
   "execution_count": 101,
   "id": "4c206d5b",
   "metadata": {
    "ExecuteTime": {
     "end_time": "2023-02-22T17:48:56.566493Z",
     "start_time": "2023-02-22T17:48:56.556378Z"
    }
   },
   "outputs": [],
   "source": [
    "###there are null values in two columns"
   ]
  },
  {
   "cell_type": "code",
   "execution_count": 22,
   "id": "5dab2c54",
   "metadata": {
    "ExecuteTime": {
     "end_time": "2023-02-22T10:56:06.685790Z",
     "start_time": "2023-02-22T10:56:06.675939Z"
    }
   },
   "outputs": [],
   "source": [
    "from sklearn.impute import SimpleImputer"
   ]
  },
  {
   "cell_type": "code",
   "execution_count": 24,
   "id": "19c8360b",
   "metadata": {
    "ExecuteTime": {
     "end_time": "2023-02-22T11:05:42.028630Z",
     "start_time": "2023-02-22T11:05:42.010677Z"
    }
   },
   "outputs": [],
   "source": [
    "si = SimpleImputer()\n",
    "\n",
    "df.iloc[:,[1,11]]= si.fit_transform(df.iloc[:,[1,11]])"
   ]
  },
  {
   "cell_type": "code",
   "execution_count": 25,
   "id": "dcce844e",
   "metadata": {
    "ExecuteTime": {
     "end_time": "2023-02-22T11:05:49.300535Z",
     "start_time": "2023-02-22T11:05:49.255748Z"
    }
   },
   "outputs": [
    {
     "data": {
      "text/html": [
       "<div>\n",
       "<style scoped>\n",
       "    .dataframe tbody tr th:only-of-type {\n",
       "        vertical-align: middle;\n",
       "    }\n",
       "\n",
       "    .dataframe tbody tr th {\n",
       "        vertical-align: top;\n",
       "    }\n",
       "\n",
       "    .dataframe thead th {\n",
       "        text-align: right;\n",
       "    }\n",
       "</style>\n",
       "<table border=\"1\" class=\"dataframe\">\n",
       "  <thead>\n",
       "    <tr style=\"text-align: right;\">\n",
       "      <th></th>\n",
       "      <th>symboling</th>\n",
       "      <th>normalized-losses</th>\n",
       "      <th>make</th>\n",
       "      <th>fuel-type</th>\n",
       "      <th>body-style</th>\n",
       "      <th>drive-wheels</th>\n",
       "      <th>engine-location</th>\n",
       "      <th>width</th>\n",
       "      <th>height</th>\n",
       "      <th>engine-type</th>\n",
       "      <th>engine-size</th>\n",
       "      <th>horsepower</th>\n",
       "      <th>city-mpg</th>\n",
       "      <th>highway-mpg</th>\n",
       "      <th>price</th>\n",
       "    </tr>\n",
       "  </thead>\n",
       "  <tbody>\n",
       "    <tr>\n",
       "      <th>0</th>\n",
       "      <td>3</td>\n",
       "      <td>122.0</td>\n",
       "      <td>alfa-romero</td>\n",
       "      <td>gas</td>\n",
       "      <td>convertible</td>\n",
       "      <td>rwd</td>\n",
       "      <td>front</td>\n",
       "      <td>64.1</td>\n",
       "      <td>48.8</td>\n",
       "      <td>dohc</td>\n",
       "      <td>130</td>\n",
       "      <td>111.0</td>\n",
       "      <td>21</td>\n",
       "      <td>27</td>\n",
       "      <td>13495</td>\n",
       "    </tr>\n",
       "    <tr>\n",
       "      <th>1</th>\n",
       "      <td>3</td>\n",
       "      <td>122.0</td>\n",
       "      <td>alfa-romero</td>\n",
       "      <td>gas</td>\n",
       "      <td>convertible</td>\n",
       "      <td>rwd</td>\n",
       "      <td>front</td>\n",
       "      <td>64.1</td>\n",
       "      <td>48.8</td>\n",
       "      <td>dohc</td>\n",
       "      <td>130</td>\n",
       "      <td>111.0</td>\n",
       "      <td>21</td>\n",
       "      <td>27</td>\n",
       "      <td>16500</td>\n",
       "    </tr>\n",
       "    <tr>\n",
       "      <th>2</th>\n",
       "      <td>1</td>\n",
       "      <td>122.0</td>\n",
       "      <td>alfa-romero</td>\n",
       "      <td>gas</td>\n",
       "      <td>hatchback</td>\n",
       "      <td>rwd</td>\n",
       "      <td>front</td>\n",
       "      <td>65.5</td>\n",
       "      <td>52.4</td>\n",
       "      <td>ohcv</td>\n",
       "      <td>152</td>\n",
       "      <td>154.0</td>\n",
       "      <td>19</td>\n",
       "      <td>26</td>\n",
       "      <td>16500</td>\n",
       "    </tr>\n",
       "    <tr>\n",
       "      <th>3</th>\n",
       "      <td>2</td>\n",
       "      <td>164.0</td>\n",
       "      <td>audi</td>\n",
       "      <td>gas</td>\n",
       "      <td>sedan</td>\n",
       "      <td>fwd</td>\n",
       "      <td>front</td>\n",
       "      <td>66.2</td>\n",
       "      <td>54.3</td>\n",
       "      <td>ohc</td>\n",
       "      <td>109</td>\n",
       "      <td>102.0</td>\n",
       "      <td>24</td>\n",
       "      <td>30</td>\n",
       "      <td>13950</td>\n",
       "    </tr>\n",
       "    <tr>\n",
       "      <th>4</th>\n",
       "      <td>2</td>\n",
       "      <td>164.0</td>\n",
       "      <td>audi</td>\n",
       "      <td>gas</td>\n",
       "      <td>sedan</td>\n",
       "      <td>4wd</td>\n",
       "      <td>front</td>\n",
       "      <td>66.4</td>\n",
       "      <td>54.3</td>\n",
       "      <td>ohc</td>\n",
       "      <td>136</td>\n",
       "      <td>115.0</td>\n",
       "      <td>18</td>\n",
       "      <td>22</td>\n",
       "      <td>17450</td>\n",
       "    </tr>\n",
       "  </tbody>\n",
       "</table>\n",
       "</div>"
      ],
      "text/plain": [
       "   symboling  normalized-losses         make fuel-type   body-style  \\\n",
       "0          3              122.0  alfa-romero       gas  convertible   \n",
       "1          3              122.0  alfa-romero       gas  convertible   \n",
       "2          1              122.0  alfa-romero       gas    hatchback   \n",
       "3          2              164.0         audi       gas        sedan   \n",
       "4          2              164.0         audi       gas        sedan   \n",
       "\n",
       "  drive-wheels engine-location  width  height engine-type  engine-size  \\\n",
       "0          rwd           front   64.1    48.8        dohc          130   \n",
       "1          rwd           front   64.1    48.8        dohc          130   \n",
       "2          rwd           front   65.5    52.4        ohcv          152   \n",
       "3          fwd           front   66.2    54.3         ohc          109   \n",
       "4          4wd           front   66.4    54.3         ohc          136   \n",
       "\n",
       "   horsepower  city-mpg  highway-mpg  price  \n",
       "0       111.0        21           27  13495  \n",
       "1       111.0        21           27  16500  \n",
       "2       154.0        19           26  16500  \n",
       "3       102.0        24           30  13950  \n",
       "4       115.0        18           22  17450  "
      ]
     },
     "execution_count": 25,
     "metadata": {},
     "output_type": "execute_result"
    }
   ],
   "source": [
    "df.head()"
   ]
  },
  {
   "cell_type": "code",
   "execution_count": 102,
   "id": "14032089",
   "metadata": {
    "ExecuteTime": {
     "end_time": "2023-02-22T17:49:30.939788Z",
     "start_time": "2023-02-22T17:49:30.924819Z"
    }
   },
   "outputs": [],
   "source": [
    "#convert categorical data into numerical data"
   ]
  },
  {
   "cell_type": "code",
   "execution_count": 26,
   "id": "b08c9df9",
   "metadata": {
    "ExecuteTime": {
     "end_time": "2023-02-22T14:47:33.312480Z",
     "start_time": "2023-02-22T14:47:33.276962Z"
    }
   },
   "outputs": [],
   "source": [
    "from sklearn.preprocessing import OrdinalEncoder"
   ]
  },
  {
   "cell_type": "code",
   "execution_count": 27,
   "id": "1bfa31c5",
   "metadata": {
    "ExecuteTime": {
     "end_time": "2023-02-22T14:47:42.266717Z",
     "start_time": "2023-02-22T14:47:42.240040Z"
    }
   },
   "outputs": [],
   "source": [
    "oe = OrdinalEncoder()"
   ]
  },
  {
   "cell_type": "code",
   "execution_count": 65,
   "id": "c455c5ca",
   "metadata": {
    "ExecuteTime": {
     "end_time": "2023-02-22T17:01:06.855450Z",
     "start_time": "2023-02-22T17:01:06.833705Z"
    }
   },
   "outputs": [
    {
     "data": {
      "text/plain": [
       "0      dohc\n",
       "1      dohc\n",
       "2      ohcv\n",
       "3       ohc\n",
       "4       ohc\n",
       "       ... \n",
       "200     ohc\n",
       "201     ohc\n",
       "202    ohcv\n",
       "203     ohc\n",
       "204     ohc\n",
       "Name: engine-type, Length: 205, dtype: object"
      ]
     },
     "execution_count": 65,
     "metadata": {},
     "output_type": "execute_result"
    }
   ],
   "source": [
    "df.iloc[:,2:7].columns\n",
    "df.iloc[:,9]"
   ]
  },
  {
   "cell_type": "code",
   "execution_count": 73,
   "id": "2816c069",
   "metadata": {
    "ExecuteTime": {
     "end_time": "2023-02-22T17:05:23.353659Z",
     "start_time": "2023-02-22T17:05:23.322721Z"
    }
   },
   "outputs": [],
   "source": [
    "df.iloc[:,[2,3,4,5,6,7,9]] = oe.fit_transform(df.iloc[:,[2,3,4,5,6,7,9]])"
   ]
  },
  {
   "cell_type": "code",
   "execution_count": 74,
   "id": "7c4fdf02",
   "metadata": {
    "ExecuteTime": {
     "end_time": "2023-02-22T17:05:37.500915Z",
     "start_time": "2023-02-22T17:05:37.471450Z"
    }
   },
   "outputs": [
    {
     "data": {
      "text/html": [
       "<div>\n",
       "<style scoped>\n",
       "    .dataframe tbody tr th:only-of-type {\n",
       "        vertical-align: middle;\n",
       "    }\n",
       "\n",
       "    .dataframe tbody tr th {\n",
       "        vertical-align: top;\n",
       "    }\n",
       "\n",
       "    .dataframe thead th {\n",
       "        text-align: right;\n",
       "    }\n",
       "</style>\n",
       "<table border=\"1\" class=\"dataframe\">\n",
       "  <thead>\n",
       "    <tr style=\"text-align: right;\">\n",
       "      <th></th>\n",
       "      <th>symboling</th>\n",
       "      <th>normalized-losses</th>\n",
       "      <th>make</th>\n",
       "      <th>fuel-type</th>\n",
       "      <th>body-style</th>\n",
       "      <th>drive-wheels</th>\n",
       "      <th>engine-location</th>\n",
       "      <th>width</th>\n",
       "      <th>height</th>\n",
       "      <th>engine-type</th>\n",
       "      <th>engine-size</th>\n",
       "      <th>horsepower</th>\n",
       "      <th>city-mpg</th>\n",
       "      <th>highway-mpg</th>\n",
       "      <th>price</th>\n",
       "    </tr>\n",
       "  </thead>\n",
       "  <tbody>\n",
       "    <tr>\n",
       "      <th>0</th>\n",
       "      <td>3</td>\n",
       "      <td>122.0</td>\n",
       "      <td>0.0</td>\n",
       "      <td>1.0</td>\n",
       "      <td>0.0</td>\n",
       "      <td>2.0</td>\n",
       "      <td>0.0</td>\n",
       "      <td>8.0</td>\n",
       "      <td>48.8</td>\n",
       "      <td>0.0</td>\n",
       "      <td>130</td>\n",
       "      <td>111.0</td>\n",
       "      <td>21</td>\n",
       "      <td>27</td>\n",
       "      <td>13495</td>\n",
       "    </tr>\n",
       "    <tr>\n",
       "      <th>1</th>\n",
       "      <td>3</td>\n",
       "      <td>122.0</td>\n",
       "      <td>0.0</td>\n",
       "      <td>1.0</td>\n",
       "      <td>0.0</td>\n",
       "      <td>2.0</td>\n",
       "      <td>0.0</td>\n",
       "      <td>8.0</td>\n",
       "      <td>48.8</td>\n",
       "      <td>0.0</td>\n",
       "      <td>130</td>\n",
       "      <td>111.0</td>\n",
       "      <td>21</td>\n",
       "      <td>27</td>\n",
       "      <td>16500</td>\n",
       "    </tr>\n",
       "    <tr>\n",
       "      <th>2</th>\n",
       "      <td>1</td>\n",
       "      <td>122.0</td>\n",
       "      <td>0.0</td>\n",
       "      <td>1.0</td>\n",
       "      <td>2.0</td>\n",
       "      <td>2.0</td>\n",
       "      <td>0.0</td>\n",
       "      <td>16.0</td>\n",
       "      <td>52.4</td>\n",
       "      <td>5.0</td>\n",
       "      <td>152</td>\n",
       "      <td>154.0</td>\n",
       "      <td>19</td>\n",
       "      <td>26</td>\n",
       "      <td>16500</td>\n",
       "    </tr>\n",
       "    <tr>\n",
       "      <th>3</th>\n",
       "      <td>2</td>\n",
       "      <td>164.0</td>\n",
       "      <td>1.0</td>\n",
       "      <td>1.0</td>\n",
       "      <td>3.0</td>\n",
       "      <td>1.0</td>\n",
       "      <td>0.0</td>\n",
       "      <td>21.0</td>\n",
       "      <td>54.3</td>\n",
       "      <td>3.0</td>\n",
       "      <td>109</td>\n",
       "      <td>102.0</td>\n",
       "      <td>24</td>\n",
       "      <td>30</td>\n",
       "      <td>13950</td>\n",
       "    </tr>\n",
       "    <tr>\n",
       "      <th>4</th>\n",
       "      <td>2</td>\n",
       "      <td>164.0</td>\n",
       "      <td>1.0</td>\n",
       "      <td>1.0</td>\n",
       "      <td>3.0</td>\n",
       "      <td>0.0</td>\n",
       "      <td>0.0</td>\n",
       "      <td>23.0</td>\n",
       "      <td>54.3</td>\n",
       "      <td>3.0</td>\n",
       "      <td>136</td>\n",
       "      <td>115.0</td>\n",
       "      <td>18</td>\n",
       "      <td>22</td>\n",
       "      <td>17450</td>\n",
       "    </tr>\n",
       "  </tbody>\n",
       "</table>\n",
       "</div>"
      ],
      "text/plain": [
       "   symboling  normalized-losses  make  fuel-type  body-style  drive-wheels  \\\n",
       "0          3              122.0   0.0        1.0         0.0           2.0   \n",
       "1          3              122.0   0.0        1.0         0.0           2.0   \n",
       "2          1              122.0   0.0        1.0         2.0           2.0   \n",
       "3          2              164.0   1.0        1.0         3.0           1.0   \n",
       "4          2              164.0   1.0        1.0         3.0           0.0   \n",
       "\n",
       "   engine-location  width  height  engine-type  engine-size  horsepower  \\\n",
       "0              0.0    8.0    48.8          0.0          130       111.0   \n",
       "1              0.0    8.0    48.8          0.0          130       111.0   \n",
       "2              0.0   16.0    52.4          5.0          152       154.0   \n",
       "3              0.0   21.0    54.3          3.0          109       102.0   \n",
       "4              0.0   23.0    54.3          3.0          136       115.0   \n",
       "\n",
       "   city-mpg  highway-mpg  price  \n",
       "0        21           27  13495  \n",
       "1        21           27  16500  \n",
       "2        19           26  16500  \n",
       "3        24           30  13950  \n",
       "4        18           22  17450  "
      ]
     },
     "execution_count": 74,
     "metadata": {},
     "output_type": "execute_result"
    }
   ],
   "source": [
    "df.head()"
   ]
  },
  {
   "cell_type": "code",
   "execution_count": 103,
   "id": "390bc095",
   "metadata": {
    "ExecuteTime": {
     "end_time": "2023-02-22T17:50:02.660167Z",
     "start_time": "2023-02-22T17:50:02.644702Z"
    }
   },
   "outputs": [],
   "source": [
    "#Splitting the data for training and testing"
   ]
  },
  {
   "cell_type": "code",
   "execution_count": 38,
   "id": "10ae9dbd",
   "metadata": {
    "ExecuteTime": {
     "end_time": "2023-02-22T16:17:02.985709Z",
     "start_time": "2023-02-22T16:17:02.975007Z"
    }
   },
   "outputs": [],
   "source": [
    "from sklearn.model_selection import train_test_split"
   ]
  },
  {
   "cell_type": "code",
   "execution_count": 40,
   "id": "6c846a3b",
   "metadata": {
    "ExecuteTime": {
     "end_time": "2023-02-22T16:41:51.969085Z",
     "start_time": "2023-02-22T16:41:51.959750Z"
    }
   },
   "outputs": [],
   "source": [
    "from sklearn.linear_model import LinearRegression,Lasso, Ridge\n",
    "from sklearn.preprocessing import StandardScaler"
   ]
  },
  {
   "cell_type": "code",
   "execution_count": 75,
   "id": "d4240c8e",
   "metadata": {
    "ExecuteTime": {
     "end_time": "2023-02-22T17:09:52.633591Z",
     "start_time": "2023-02-22T17:09:52.616275Z"
    }
   },
   "outputs": [],
   "source": [
    "x = df.iloc[:, :-1]\n",
    "y = df.iloc[:,-1]"
   ]
  },
  {
   "cell_type": "code",
   "execution_count": 76,
   "id": "4f7a689c",
   "metadata": {
    "ExecuteTime": {
     "end_time": "2023-02-22T17:09:53.639362Z",
     "start_time": "2023-02-22T17:09:53.613176Z"
    }
   },
   "outputs": [],
   "source": [
    "sc = StandardScaler()\n",
    "\n",
    "df = sc.fit_transform(df)"
   ]
  },
  {
   "cell_type": "code",
   "execution_count": 77,
   "id": "be8c259c",
   "metadata": {
    "ExecuteTime": {
     "end_time": "2023-02-22T17:17:15.084145Z",
     "start_time": "2023-02-22T17:17:15.062542Z"
    }
   },
   "outputs": [],
   "source": [
    "xtrain,xtest,ytrain,ytest = train_test_split(x,y, train_size=0.8, random_state=1)"
   ]
  },
  {
   "cell_type": "code",
   "execution_count": 104,
   "id": "7aef67ca",
   "metadata": {
    "ExecuteTime": {
     "end_time": "2023-02-22T17:50:26.337076Z",
     "start_time": "2023-02-22T17:50:26.328852Z"
    }
   },
   "outputs": [],
   "source": [
    "#Model building"
   ]
  },
  {
   "cell_type": "code",
   "execution_count": 81,
   "id": "90f62614",
   "metadata": {
    "ExecuteTime": {
     "end_time": "2023-02-22T17:19:09.055622Z",
     "start_time": "2023-02-22T17:19:09.034707Z"
    }
   },
   "outputs": [],
   "source": [
    "lr = LinearRegression()\n",
    "\n",
    "lr.fit(xtrain, ytrain)\n",
    "\n",
    "ypred= lr.predict(xtest)"
   ]
  },
  {
   "cell_type": "code",
   "execution_count": 82,
   "id": "80bd5199",
   "metadata": {
    "ExecuteTime": {
     "end_time": "2023-02-22T17:20:08.497866Z",
     "start_time": "2023-02-22T17:20:08.478082Z"
    }
   },
   "outputs": [
    {
     "name": "stdout",
     "output_type": "stream",
     "text": [
      "Training accurancy 0.8469975010086488\n",
      "Testing accurancy 0.7533197595027007\n"
     ]
    }
   ],
   "source": [
    "print('Training accurancy', lr.score(xtrain,ytrain))\n",
    "print('Testing accurancy',lr.score(xtest,ytest))"
   ]
  },
  {
   "cell_type": "markdown",
   "id": "17075de5",
   "metadata": {},
   "source": [
    "Training accurency is high \n",
    "\n",
    "testing accurancy is low\n",
    "\n",
    "**Overfitting**"
   ]
  },
  {
   "cell_type": "markdown",
   "id": "d4517faf",
   "metadata": {},
   "source": [
    "# Ridge Regilarization"
   ]
  },
  {
   "cell_type": "code",
   "execution_count": 84,
   "id": "c017cbd0",
   "metadata": {
    "ExecuteTime": {
     "end_time": "2023-02-22T17:30:36.087295Z",
     "start_time": "2023-02-22T17:30:36.049521Z"
    }
   },
   "outputs": [
    {
     "name": "stdout",
     "output_type": "stream",
     "text": [
      "Training accurancy 0.8419231931456462\n",
      "Testing accurancy 0.7658197224043962\n"
     ]
    }
   ],
   "source": [
    "rg = Ridge(alpha= 1)\n",
    "\n",
    "rg.fit(xtrain,ytrain)\n",
    "\n",
    "print('Training accurancy', rg.score(xtrain,ytrain))\n",
    "print('Testing accurancy',rg.score(xtest,ytest))"
   ]
  },
  {
   "cell_type": "code",
   "execution_count": 85,
   "id": "9ecd9355",
   "metadata": {
    "ExecuteTime": {
     "end_time": "2023-02-22T17:34:04.691399Z",
     "start_time": "2023-02-22T17:34:04.668973Z"
    }
   },
   "outputs": [
    {
     "name": "stdout",
     "output_type": "stream",
     "text": [
      "Training accurancy 0.79197096478723\n",
      "Testing accurancy 0.7711797601695441\n"
     ]
    }
   ],
   "source": [
    "rg = Ridge(alpha= 100)\n",
    "\n",
    "rg.fit(xtrain,ytrain)\n",
    "\n",
    "print('Training accurancy', rg.score(xtrain,ytrain))\n",
    "print('Testing accurancy',rg.score(xtest,ytest))"
   ]
  },
  {
   "cell_type": "code",
   "execution_count": 86,
   "id": "cf66568c",
   "metadata": {
    "ExecuteTime": {
     "end_time": "2023-02-22T17:34:31.143349Z",
     "start_time": "2023-02-22T17:34:31.125329Z"
    }
   },
   "outputs": [
    {
     "name": "stdout",
     "output_type": "stream",
     "text": [
      "Training accurancy 0.7877735084200924\n",
      "Testing accurancy 0.7689237833762005\n"
     ]
    }
   ],
   "source": [
    "rg = Ridge(alpha= 150)\n",
    "\n",
    "rg.fit(xtrain,ytrain)\n",
    "\n",
    "print('Training accurancy', rg.score(xtrain,ytrain))\n",
    "print('Testing accurancy',rg.score(xtest,ytest))"
   ]
  },
  {
   "cell_type": "markdown",
   "id": "63167c40",
   "metadata": {},
   "source": [
    "\n",
    "# Lasso Regularization "
   ]
  },
  {
   "cell_type": "code",
   "execution_count": 92,
   "id": "13c97044",
   "metadata": {
    "ExecuteTime": {
     "end_time": "2023-02-22T17:36:22.828611Z",
     "start_time": "2023-02-22T17:36:22.816306Z"
    }
   },
   "outputs": [
    {
     "name": "stdout",
     "output_type": "stream",
     "text": [
      "Training accurancy 0.7909738694552181\n",
      "Testing accurancy 0.776414021080917\n"
     ]
    }
   ],
   "source": [
    "ls = Lasso(alpha= 250)\n",
    "\n",
    "ls.fit(xtrain,ytrain)\n",
    "\n",
    "print('Training accurancy', ls.score(xtrain,ytrain))\n",
    "print('Testing accurancy',ls.score(xtest,ytest))"
   ]
  },
  {
   "cell_type": "code",
   "execution_count": 93,
   "id": "d0d61880",
   "metadata": {
    "ExecuteTime": {
     "end_time": "2023-02-22T17:36:40.696519Z",
     "start_time": "2023-02-22T17:36:40.680480Z"
    }
   },
   "outputs": [
    {
     "data": {
      "text/plain": [
       "array([   0.        ,   -1.87734002, -163.28012966,   -0.        ,\n",
       "       -352.19133681, 1028.56901465,    0.        ,   42.3382404 ,\n",
       "        383.08789227,  231.32572979,  116.76108847,   16.66473849,\n",
       "          0.        , -110.27441802])"
      ]
     },
     "execution_count": 93,
     "metadata": {},
     "output_type": "execute_result"
    }
   ],
   "source": [
    "ls.coef_"
   ]
  },
  {
   "cell_type": "markdown",
   "id": "05fb5418",
   "metadata": {},
   "source": [
    "# Selection of alpha"
   ]
  },
  {
   "cell_type": "code",
   "execution_count": 94,
   "id": "71e4a400",
   "metadata": {
    "ExecuteTime": {
     "end_time": "2023-02-22T17:40:52.242773Z",
     "start_time": "2023-02-22T17:40:52.097514Z"
    }
   },
   "outputs": [
    {
     "name": "stdout",
     "output_type": "stream",
     "text": [
      "149 {0.7878408355907416} {0.7689616685340155}\n"
     ]
    }
   ],
   "source": [
    "for i in range(100,150):\n",
    "    rg = Ridge(alpha= i)\n",
    "\n",
    "    rg.fit(xtrain,ytrain)\n",
    "\n",
    "print(f'{i}', {rg.score(xtrain,ytrain)},{rg.score(xtest,ytest)})"
   ]
  },
  {
   "cell_type": "code",
   "execution_count": null,
   "id": "50293f1c",
   "metadata": {},
   "outputs": [],
   "source": []
  }
 ],
 "metadata": {
  "kernelspec": {
   "display_name": "Python 3 (ipykernel)",
   "language": "python",
   "name": "python3"
  },
  "language_info": {
   "codemirror_mode": {
    "name": "ipython",
    "version": 3
   },
   "file_extension": ".py",
   "mimetype": "text/x-python",
   "name": "python",
   "nbconvert_exporter": "python",
   "pygments_lexer": "ipython3",
   "version": "3.9.13"
  }
 },
 "nbformat": 4,
 "nbformat_minor": 5
}
